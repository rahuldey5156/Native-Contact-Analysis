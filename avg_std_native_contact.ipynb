{
 "cells": [
  {
   "cell_type": "code",
   "execution_count": 1,
   "id": "d7bdc43d-b84c-4ec9-a935-9c9ee9f51abb",
   "metadata": {},
   "outputs": [],
   "source": [
    "import os\n",
    "import numpy as np\n",
    "import pandas as pd"
   ]
  },
  {
   "cell_type": "code",
   "execution_count": 2,
   "id": "416f0743-f5cd-4f52-bc96-50202217fcde",
   "metadata": {},
   "outputs": [
    {
     "name": "stdout",
     "output_type": "stream",
     "text": [
      "['A_B_v3.csv', 'A_B_v2.csv', 'D_E_v1.csv', 'D_E_v3.csv', 'A_B_v1.csv', 'D_E_v2.csv', 'B_C_v2.csv', 'B_C_v3.csv', 'B_C_v1.csv', 'C_D_v2.csv', 'C_D_v3.csv', 'C_D_v1.csv']\n"
     ]
    }
   ],
   "source": [
    "# Get list of all .dat files in the current directory\n",
    "dat_files = [f for f in os.listdir() if f.endswith('.csv')]\n",
    "print(dat_files)"
   ]
  },
  {
   "cell_type": "code",
   "execution_count": 3,
   "id": "13674511-5bad-43ff-a389-4ccc1896ae6f",
   "metadata": {},
   "outputs": [],
   "source": [
    "# List to store the data from all files\n",
    "data_list = []"
   ]
  },
  {
   "cell_type": "code",
   "execution_count": 4,
   "id": "de258de4-c5ab-4728-8b05-442ac77f93b9",
   "metadata": {},
   "outputs": [],
   "source": [
    "# Loop through each .dat file in the current directory\n",
    "for filename in dat_files:\n",
    "    # Load the data, assuming space or tab as delimiter and ignoring the first row (header)\n",
    "    data = np.loadtxt(filename, delimiter=None)\n",
    "    \n",
    "    # Extract the 2nd column (index 1) and append to list\n",
    "    second_column = data[:, 1]\n",
    "    data_list.append(second_column)"
   ]
  },
  {
   "cell_type": "code",
   "execution_count": 5,
   "id": "f098a7f4-8522-455e-b07f-6e751b94660e",
   "metadata": {},
   "outputs": [],
   "source": [
    "# Stack the data to calculate row-wise average\n",
    "data_array = np.column_stack(data_list)"
   ]
  },
  {
   "cell_type": "code",
   "execution_count": 6,
   "id": "68eaad0f-2bfa-4dec-8202-10a55a68989e",
   "metadata": {},
   "outputs": [
    {
     "name": "stdout",
     "output_type": "stream",
     "text": [
      "[0.99664425 0.99334022 0.99105051 ... 0.94359743 0.94470533 0.94480646]\n",
      "[0.00136337 0.00334924 0.00346315 ... 0.02318224 0.02400377 0.02235479]\n"
     ]
    }
   ],
   "source": [
    "average = np.mean(data_array, axis=1)\n",
    "standard_deviation = np.std(data_array, axis=1)\n",
    "print(average)\n",
    "print(standard_deviation)"
   ]
  },
  {
   "cell_type": "code",
   "execution_count": 7,
   "id": "988d4e3f-a769-4173-80e2-fd339557eada",
   "metadata": {},
   "outputs": [],
   "source": [
    "index_array = np.arange(1, average.shape[0] + 1)"
   ]
  },
  {
   "cell_type": "code",
   "execution_count": 8,
   "id": "900bbe87-cac4-4b2c-bf28-1cc006f0b052",
   "metadata": {},
   "outputs": [
    {
     "name": "stdout",
     "output_type": "stream",
     "text": [
      "           0         1         2\n",
      "0        1.0  0.996644  0.001363\n",
      "1        2.0  0.993340  0.003349\n",
      "2        3.0  0.991051  0.003463\n",
      "3        4.0  0.987823  0.005704\n",
      "4        5.0  0.983012  0.007974\n",
      "...      ...       ...       ...\n",
      "5995  5996.0  0.941499  0.027435\n",
      "5996  5997.0  0.944749  0.021790\n",
      "5997  5998.0  0.943597  0.023182\n",
      "5998  5999.0  0.944705  0.024004\n",
      "5999  6000.0  0.944806  0.022355\n",
      "\n",
      "[6000 rows x 3 columns]\n"
     ]
    }
   ],
   "source": [
    "combined_data = np.column_stack((index_array, average, standard_deviation))\n",
    "df = pd.DataFrame(combined_data)\n",
    "print(df)"
   ]
  },
  {
   "cell_type": "code",
   "execution_count": 11,
   "id": "8a1ce638-7152-4ddd-9b0b-bd5d16b10744",
   "metadata": {},
   "outputs": [],
   "source": [
    "#Save this to a datafile\n",
    "df.to_csv('avg_std_native_contact.dat', header=None, index=False)"
   ]
  },
  {
   "cell_type": "code",
   "execution_count": null,
   "id": "192daba2-7bfd-429d-abd7-f8096189d000",
   "metadata": {},
   "outputs": [],
   "source": []
  }
 ],
 "metadata": {
  "kernelspec": {
   "display_name": "Python 3 (ipykernel)",
   "language": "python",
   "name": "python3"
  },
  "language_info": {
   "codemirror_mode": {
    "name": "ipython",
    "version": 3
   },
   "file_extension": ".py",
   "mimetype": "text/x-python",
   "name": "python",
   "nbconvert_exporter": "python",
   "pygments_lexer": "ipython3",
   "version": "3.11.5"
  }
 },
 "nbformat": 4,
 "nbformat_minor": 5
}
